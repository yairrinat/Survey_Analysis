{
  "nbformat": 4,
  "nbformat_minor": 0,
  "metadata": {
    "colab": {
      "name": "survey_analysis.ipynb",
      "provenance": [],
      "history_visible": true,
      "include_colab_link": true
    },
    "kernelspec": {
      "name": "python3",
      "display_name": "Python 3"
    },
    "language_info": {
      "name": "python"
    }
  },
  "cells": [
    {
      "cell_type": "markdown",
      "metadata": {
        "id": "view-in-github",
        "colab_type": "text"
      },
      "source": [
        "<a href=\"https://colab.research.google.com/github/yairrinat/Survey_Analysis/blob/main/survey_analysis.ipynb\" target=\"_parent\"><img src=\"https://colab.research.google.com/assets/colab-badge.svg\" alt=\"Open In Colab\"/></a>"
      ]
    },
    {
      "cell_type": "markdown",
      "metadata": {
        "id": "x3EcP3cRHtLY"
      },
      "source": [
        "In this short script I plan to analyze the survey data we got from the WMO\n",
        "\n",
        "# **This is a new version**\n"
      ]
    },
    {
      "cell_type": "code",
      "metadata": {
        "id": "jz2jGo0Pfgn9"
      },
      "source": [
        "# load and install pakages\n",
        "import pandas as pd\n",
        "import re\n",
        "import matplotlib.pyplot as plt\n",
        "import seaborn as sns\n",
        "import numpy as np"
      ],
      "execution_count": 118,
      "outputs": []
    },
    {
      "cell_type": "code",
      "metadata": {
        "id": "OyLgczgmgrLg"
      },
      "source": [
        ""
      ],
      "execution_count": null,
      "outputs": []
    },
    {
      "cell_type": "markdown",
      "metadata": {
        "id": "Uumz9oo1hIuA"
      },
      "source": [
        "# Loading excels:"
      ]
    },
    {
      "cell_type": "code",
      "metadata": {
        "id": "Q2yjrwHKfRCf",
        "colab": {
          "base_uri": "https://localhost:8080/",
          "height": 236
        },
        "outputId": "85a1abca-2ff5-4142-860c-e93300f8a861"
      },
      "source": [
        "# link to excel file:\n",
        "url_world = \"https://github.com/yairrinat/Survey_Analysis/blob/main/WMO_SURVEY.xlsx?raw=true\"\n",
        "url_pop = \"https://github.com/yairrinat/Survey_Analysis/blob/main/world_pop_all.xlsx?raw=true\"\n",
        "url_country_area = \"https://github.com/yairrinat/Survey_Analysis/blob/main/country_area_new.xlsx?raw=true\"\n",
        "url_staff_reduced = \"https://github.com/yairrinat/Survey_Analysis/blob/main/WMO%20Hydrology%20Survey_Staff_reduced.xlsx?raw=true\"\n",
        "url_GDP = \"https://github.com/yairrinat/Survey_Analysis/blob/main/GDP_PPP.xlsx?raw=true\"\n",
        "url_budget = \"https://github.com/yairrinat/Survey_Analysis/blob/main/budget.xlsx?raw=true\"\n",
        "\n",
        "#load personal data:\n",
        "df_personal = pd.read_excel(url_world,index_col = 0,header = 0, sheet_name = \"Person details\")\n",
        "df_personal = df_personal.iloc[1:,:] # remove first row\n",
        "#print(df_personal)\n",
        "\n",
        "#load staff data:\n",
        "df_staff = pd.read_excel(url_world,index_col=0,header = 0, sheet_name = \"STAFF\")\n",
        "list_ind = df_staff.index.to_list()\n",
        "list_ind[0] = \"secondary_title\"\n",
        "df_staff.index= list_ind\n",
        "df_staff.head(10)\n",
        "\n",
        "#load reduced staff data\n",
        "df_staff_reduced = pd.read_excel(url_staff_reduced,index_col=0,header = 0, sheet_name = \"STAFF\")\n",
        "list_ind = df_staff_reduced.index.to_list()\n",
        "list_ind[0] = \"secondary_title\"\n",
        "df_staff_reduced.index= list_ind\n",
        "df_staff_reduced.head(10)\n",
        "\n",
        "#load budget:\n",
        "df_budget = pd.read_excel(url_budget,index_col=0,header = 0)\n",
        "df_budget.dropna(inplace=True)\n",
        "df_budget.sort_values(by  = \"Total million nis\", inplace=True)\n",
        "df_budget.head()\n",
        "\n",
        "#load population data:\n",
        "df_pop = pd.read_excel(url_pop)\n",
        "# select only the population density and YEAR 2020:\n",
        "df_pop = df_pop[df_pop['Year'] == 2019]\n",
        "df_pop = df_pop[df_pop['Series'] == \"Population density\"]\n",
        "df_pop.drop([\"Region/Country/Area\",\"Footnotes\",\"Source\", \"Series\", \"Year\"],axis = 1, inplace = True)\n",
        "df_pop.rename(columns={\"Population, density and surface area\"\t: \"Country\", \"Value\" : \"pop_density_2019\"}, inplace = True)\n",
        "df_pop.set_index(\"Country\",inplace = True)\n",
        "\n",
        "#load GNI = gross national income previously gross national product\n",
        "df_gpd_ppp = pd.read_excel(url_GDP,index_col = 0, header = 3)\n",
        "df_gpd_ppp = df_gpd_ppp[\"2019\"] # in $ \n",
        "\n",
        "df = pd.concat([df_staff,df_pop])\n",
        "\n",
        "\n",
        "df"
      ],
      "execution_count": 128,
      "outputs": [
        {
          "output_type": "execute_result",
          "data": {
            "text/html": [
              "<div>\n",
              "<style scoped>\n",
              "    .dataframe tbody tr th:only-of-type {\n",
              "        vertical-align: middle;\n",
              "    }\n",
              "\n",
              "    .dataframe tbody tr th {\n",
              "        vertical-align: top;\n",
              "    }\n",
              "\n",
              "    .dataframe thead th {\n",
              "        text-align: right;\n",
              "    }\n",
              "</style>\n",
              "<table border=\"1\" class=\"dataframe\">\n",
              "  <thead>\n",
              "    <tr style=\"text-align: right;\">\n",
              "      <th></th>\n",
              "      <th>Total million nis</th>\n",
              "    </tr>\n",
              "    <tr>\n",
              "      <th>Country</th>\n",
              "      <th></th>\n",
              "    </tr>\n",
              "  </thead>\n",
              "  <tbody>\n",
              "    <tr>\n",
              "      <th>Côte d'Ivoire</th>\n",
              "      <td>0.330</td>\n",
              "    </tr>\n",
              "    <tr>\n",
              "      <th>Bahamas</th>\n",
              "      <td>0.495</td>\n",
              "    </tr>\n",
              "    <tr>\n",
              "      <th>Sierra Leone</th>\n",
              "      <td>0.990</td>\n",
              "    </tr>\n",
              "    <tr>\n",
              "      <th>El Salvador</th>\n",
              "      <td>1.452</td>\n",
              "    </tr>\n",
              "    <tr>\n",
              "      <th>Argentina</th>\n",
              "      <td>2.310</td>\n",
              "    </tr>\n",
              "  </tbody>\n",
              "</table>\n",
              "</div>"
            ],
            "text/plain": [
              "               Total million nis\n",
              "Country                         \n",
              "Côte d'Ivoire              0.330\n",
              "Bahamas                    0.495\n",
              "Sierra Leone               0.990\n",
              "El Salvador                1.452\n",
              "Argentina                  2.310"
            ]
          },
          "metadata": {
            "tags": []
          },
          "execution_count": 128
        }
      ]
    },
    {
      "cell_type": "markdown",
      "metadata": {
        "id": "HfRLc15FfQyv"
      },
      "source": [
        ""
      ]
    },
    {
      "cell_type": "code",
      "metadata": {
        "id": "nmNcGeJ47TtC"
      },
      "source": [
        ""
      ],
      "execution_count": null,
      "outputs": []
    },
    {
      "cell_type": "code",
      "metadata": {
        "colab": {
          "base_uri": "https://localhost:8080/",
          "height": 507
        },
        "id": "PIe4dIOrSVh8",
        "outputId": "89efc17e-9140-4fdc-80fd-533bc398b4b1"
      },
      "source": [
        "aa = df_staff_reduced.iloc[1:,3]\n",
        "\n",
        "print(aa.head())\n",
        "\n",
        "def identity_total_personal(x_in):\n",
        "  \"\"\" This funciton identify the numbers in each cell of an input dataframe,\n",
        "   turns them to integers and returns their sum\"\"\"\n",
        "  try:\n",
        "    if type(x_in) == int or type(x_in) == float:\n",
        "      return x_in\n",
        "    list_nums = re.findall(r\"\\d+\",x_in)\n",
        "    list_nums2 = [int(x) for x in list_nums]\n",
        "    return sum(list_nums2)\n",
        "  except:\n",
        "    return float(\"NAN\")\n",
        "# return re.findall(r\"\\d+\",df)\n",
        "\n",
        "# sum the numbers in each cell:\n",
        "#if aa will be a df then I should change the map to applymap !!\n",
        "new = aa.map(identity_total_personal)\n",
        "print(new.head())\n",
        "# drop nans:\n",
        "new.dropna(inplace = True)\n",
        "\n",
        "print(new.head())\n",
        "# now for the plotting:\n",
        "new = new[new!=0]\n",
        "new = new.sort_values()\n",
        "new_array = np.array(new)\n",
        "new_country = np.array(new.index)\n",
        "#----------------------------------------------------\n",
        "threshold = 4    # 4 modelers and forecasters\n",
        "\n",
        "# split it up\n",
        "above_threshold = np.maximum(new_array - threshold, 0)\n",
        "below_threshold = np.minimum(new_array, threshold)\n",
        "\n",
        "# and plot it\n",
        "fig, ax = plt.subplots(figsize = (10,6))\n",
        "#plt.figure(figsize=(20, 3))  # width:10, height:8\n",
        "ax.bar(new_country, below_threshold, 0.35, color=\"r\")\n",
        "ax.bar(new_country, above_threshold, 0.35, color=\"g\",bottom=below_threshold)\n",
        "plt.axhline(threshold, color = 'k')\n",
        "plt.xticks(rotation = 90)\n",
        "plt.ylabel('Number of people')\n",
        "plt.title(\"Number of flood modelers and foreasters\", fontsize = 16)\n",
        "\n",
        " \n",
        "# Adding annotation on the plot.\n",
        "ax.annotate('2 forecaster + 2 modelers suggested by us', xy=(16, 9), xytext=(1, 50), fontsize=15,\n",
        "            arrowprops=dict(facecolor='green', shrink=0.05))\n",
        "plt.show()\n",
        "#ax.plot(figsize=(60, 10))\n",
        "fig.savefig(\"look-ma_a-threshold-plot.pdf\",bbox_inches = \"tight\")\n",
        "#----------------------------------------------------\n",
        "\n",
        "# plot Budget:\n",
        "df_budget=df_budget.iloc[:,0]\n",
        "new_array = np.array(df_budget)\n",
        "new_country = np.array(df_budget.index)\n",
        "#----------------------------------------------------\n",
        "threshold = 2.9    # 4 modelers and forecasters\n",
        "\n",
        "# split it up\n",
        "above_threshold = np.maximum(new_array - threshold, 0)\n",
        "below_threshold = np.minimum(new_array, threshold)\n",
        "# and plot it\n",
        "fig, ax = plt.subplots(figsize = (10,6))\n",
        "#plt.figure(figsize=(20, 3))  # width:10, height:8\n",
        "ax.bar(new_country, below_threshold, 0.35, color=\"r\")\n",
        "ax.bar(new_country, above_threshold, 0.35, color=\"g\",bottom=below_threshold)\n",
        "plt.axhline(threshold, color = 'k')\n",
        "plt.xticks(rotation = 90)\n",
        "plt.ylabel('NIS (millions)')\n",
        "plt.title(\"Annual budget for flood forecasting (without Radar, website, and IT)\", fontsize = 16)\n",
        "\n",
        "# Adding annotation on the plot.\n",
        "ax.annotate('Total budget suggested by us', xy=(8, 9), xytext=(1, 50), fontsize=15,\n",
        "            arrowprops=dict(facecolor='green', shrink=0.05))\n",
        "plt.show()\n",
        "#ax.plot(figsize=(60, 10))\n",
        "fig.savefig(\"Budget.pdf\",bbox_inches = \"tight\")\n",
        "#----------------------------------------------------\n",
        "\n",
        "plt.figure(figsize = (10,3))\n",
        "new.plot(kind = \"bar\")\n",
        "plt.axhline(y = 6, color = \"k--\")\n",
        "\n",
        "\n",
        "new.plot(kind = \"box\", ylim =(0,50) )\n",
        "\n",
        "\n",
        "\n",
        "plt.violinplot(new)\n",
        "\n",
        "sns.displot(new, kind=\"hist\", binwidth = 5)\n",
        "\n",
        "# new.head()\n",
        "# # test:\n",
        "# a = re.findall(r\"\\d+\",\"3 jh 32\" )\n",
        "# print(a)\n",
        "# sum([int(a[0]) , int(a[1])])\n",
        "\n",
        "# identity_total_personal(\"aa\")\n",
        "\n",
        "\n",
        "# type(df_staff[1:,3])\n",
        "\n"
      ],
      "execution_count": 172,
      "outputs": [
        {
          "output_type": "display_data",
          "data": {
            "image/png": "[encoded data removed]",
            "text/plain": [
              "<Figure size 720x432 with 1 Axes>"
            ]
          },
          "metadata": {
            "tags": [],
            "needs_background": "light"
          }
        }
      ]
    },
    {
      "cell_type": "code",
      "metadata": {
        "id": "K1TcEoZVSjbB",
        "colab": {
          "base_uri": "https://localhost:8080/"
        },
        "outputId": "469c8cea-a117-41e5-d90a-22baeeec0dc2"
      },
      "source": [
        "new"
      ],
      "execution_count": 8,
      "outputs": [
        {
          "output_type": "execute_result",
          "data": {
            "text/plain": [
              "Albania                                                   8.0\n",
              "Argentina                                                99.0\n",
              "Australia                                                47.0\n",
              "Bahamas                                                   2.0\n",
              "Bangladesh                                               14.0\n",
              "Belarus                                                   5.0\n",
              "Belgium                                                   1.0\n",
              "Belize                                                    1.0\n",
              "Benin                                                    10.0\n",
              "Bhutan                                                    4.0\n",
              "Brazil                                                    4.0\n",
              "Cambodia                                                  8.0\n",
              "Central African Republic                                  0.0\n",
              "Chile                                                     3.0\n",
              "China                                                    18.0\n",
              "Côte d'Ivoire                                             0.0\n",
              "Czech Republic                                           21.0\n",
              "Democratic Republic of the Congo                          0.0\n",
              "El Salvador                                              19.0\n",
              "Estonia                                                   1.0\n",
              "Finland                                                  25.0\n",
              "Gambia                                                    0.0\n",
              "Georgia                                                   6.0\n",
              "Guatemala                                                 3.0\n",
              "Honduras                                                  2.0\n",
              "Hong Kong, China                                          7.0\n",
              "Iceland                                                   7.0\n",
              "Indonesia                                                66.0\n",
              "Ireland                                                   6.0\n",
              "Israel                                                    0.0\n",
              "Lesotho                                                   2.0\n",
              "Luxembourg                                                9.0\n",
              "Mongolia                                                  8.0\n",
              "Myanmar                                                   4.0\n",
              "Namibia                                                   5.0\n",
              "Nepal                                                     4.0\n",
              "Netherlands                                              45.0\n",
              "New Caledonia                                             1.0\n",
              "New Zealand                                               7.0\n",
              "Niger                                                     3.0\n",
              "Nigeria                                                  16.0\n",
              "Norway                                                   40.0\n",
              "Papua New Guinea                                          0.0\n",
              "Peru                                                     41.0\n",
              "Poland                                                  202.0\n",
              "Republic of Moldova                                      47.0\n",
              "Serbia                                                    4.0\n",
              "Sierra Leone                                              7.0\n",
              "Slovakia                                                 32.0\n",
              "Slovenia                                                 11.0\n",
              "Spain                                                     7.0\n",
              "Togo                                                      4.0\n",
              "United Kingdom of Great Britain and Northern Ireland      0.0\n",
              "United States of America                                216.0\n",
              "Name: Unnamed: 4, dtype: float64"
            ]
          },
          "metadata": {
            "tags": []
          },
          "execution_count": 8
        }
      ]
    },
    {
      "cell_type": "code",
      "metadata": {
        "id": "UqnENE-_uW2o"
      },
      "source": [
        ""
      ],
      "execution_count": null,
      "outputs": []
    },
    {
      "cell_type": "code",
      "metadata": {
        "id": "VtHeKiCPunBu"
      },
      "source": [
        ""
      ],
      "execution_count": null,
      "outputs": []
    },
    {
      "cell_type": "code",
      "metadata": {
        "id": "yGrXfol0unW2"
      },
      "source": [
        ""
      ],
      "execution_count": null,
      "outputs": []
    }
  ]
}