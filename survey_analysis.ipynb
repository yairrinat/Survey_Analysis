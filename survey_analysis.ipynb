{
  "nbformat": 4,
  "nbformat_minor": 0,
  "metadata": {
    "colab": {
      "name": "survey_analysis.ipynb",
      "provenance": [],
      "toc_visible": true,
      "history_visible": true,
      "authorship_tag": "ABX9TyMwiovKNKgLr9ujzUpJDlPt",
      "include_colab_link": true
    },
    "kernelspec": {
      "name": "python3",
      "display_name": "Python 3"
    },
    "language_info": {
      "name": "python"
    }
  },
  "cells": [
    {
      "cell_type": "markdown",
      "metadata": {
        "id": "view-in-github",
        "colab_type": "text"
      },
      "source": [
        "<a href=\"https://colab.research.google.com/github/yairrinat/Survey_Analysis/blob/main/survey_analysis.ipynb\" target=\"_parent\"><img src=\"https://colab.research.google.com/assets/colab-badge.svg\" alt=\"Open In Colab\"/></a>"
      ]
    },
    {
      "cell_type": "markdown",
      "metadata": {
        "id": "x3EcP3cRHtLY"
      },
      "source": [
        "In this short script I plan to analyze the survey data we got from the WMO\n",
        "\n",
        "# **This is a new version**\n"
      ]
    },
    {
      "cell_type": "code",
      "metadata": {
        "id": "jz2jGo0Pfgn9"
      },
      "source": [
        "# load and install pakages\n",
        "import pandas as pd\n",
        "import re\n",
        "import matplotlib.pyplot as plt"
      ],
      "execution_count": 4,
      "outputs": []
    },
    {
      "cell_type": "code",
      "metadata": {
        "id": "OyLgczgmgrLg"
      },
      "source": [
        ""
      ],
      "execution_count": null,
      "outputs": []
    },
    {
      "cell_type": "markdown",
      "metadata": {
        "id": "Uumz9oo1hIuA"
      },
      "source": [
        "# Loading excels:"
      ]
    },
    {
      "cell_type": "code",
      "metadata": {
        "id": "Q2yjrwHKfRCf",
        "colab": {
          "base_uri": "https://localhost:8080/",
          "height": 874
        },
        "outputId": "d7123022-4e92-46d8-9fe8-ebbc31a61157"
      },
      "source": [
        "# link to excel file:\n",
        "url_world = \"https://github.com/yairrinat/Survey_Analysis/blob/main/WMO_SURVEY.xlsx?raw=true\"\n",
        "url_pop = \"https://github.com/yairrinat/Survey_Analysis/blob/main/world_pop_all.xlsx?raw=true\"\n",
        "url_country_area = \"https://github.com/yairrinat/Survey_Analysis/blob/main/country_area_new.xlsx?raw=true\"\n",
        "\n",
        "#load personal data:\n",
        "df_personal = pd.read_excel(url_world,index_col = 0,header = 0, sheet_name = \"Person details\")\n",
        "df_personal = df_personal.iloc[1:,:] # remove first row\n",
        "#print(df_personal)\n",
        "\n",
        "#load staff data:\n",
        "df_staff = pd.read_excel(url_world,index_col=0,header = 0, sheet_name = \"STAFF\")\n",
        "list_ind = df_staff.index.to_list()\n",
        "list_ind[0] = \"secondary_title\"\n",
        "df_staff.index= list_ind\n",
        "df_staff.head(10)\n",
        "\n",
        "#load ... to be continued later\n",
        "\n",
        "#load population data:\n",
        "df_pop = pd.read_excel(url_pop)\n",
        "# select only the population density and YEAR 2020:\n",
        "df_pop = df_pop[df_pop['Year'] == 2019]\n",
        "df_pop = df_pop[df_pop['Series'] == \"Population density\"]\n",
        "df_pop.drop([\"Region/Country/Area\",\"Footnotes\",\"Source\", \"Series\", \"Year\"],axis = 1, inplace = True)\n",
        "df_pop.rename(columns={\"Population, density and surface area\"\t: \"Country\", \"Value\" : \"pop_density_2019\"}, inplace = True)\n",
        "df_pop.set_index(\"Country\",inplace = True)\n",
        "df_pop\n",
        "\n",
        "df_staff\n",
        "df = pd.concat([df_staff,df_pop])\n",
        "df"
      ],
      "execution_count": 27,
      "outputs": [
        {
          "output_type": "execute_result",
          "data": {
            "text/html": [
              "<div>\n",
              "<style scoped>\n",
              "    .dataframe tbody tr th:only-of-type {\n",
              "        vertical-align: middle;\n",
              "    }\n",
              "\n",
              "    .dataframe tbody tr th {\n",
              "        vertical-align: top;\n",
              "    }\n",
              "\n",
              "    .dataframe thead th {\n",
              "        text-align: right;\n",
              "    }\n",
              "</style>\n",
              "<table border=\"1\" class=\"dataframe\">\n",
              "  <thead>\n",
              "    <tr style=\"text-align: right;\">\n",
              "      <th></th>\n",
              "      <th>Please provide the total number of staff in your institution/organization by gender:</th>\n",
              "      <th>Unnamed: 2</th>\n",
              "      <th>Please provide the number of staff working in the institution/organization, in the following areas along with their gender distribution: (Female/Male)</th>\n",
              "      <th>Unnamed: 4</th>\n",
              "      <th>Unnamed: 5</th>\n",
              "      <th>Unnamed: 6</th>\n",
              "      <th>Unnamed: 7</th>\n",
              "      <th>Please provide the number of staff in your institution/organization with a university degree, along with their gender distribution:</th>\n",
              "      <th>Unnamed: 9</th>\n",
              "      <th>Please provide the number of staff in your institution/organization by the following age categories:</th>\n",
              "      <th>Unnamed: 11</th>\n",
              "      <th>Unnamed: 12</th>\n",
              "      <th>Unnamed: 13</th>\n",
              "      <th>Unnamed: 14</th>\n",
              "      <th>Please indicate the trend of the staffing figures during the recent 3-5 years:</th>\n",
              "      <th>Unnamed: 16</th>\n",
              "      <th>pop_density_2019</th>\n",
              "    </tr>\n",
              "  </thead>\n",
              "  <tbody>\n",
              "    <tr>\n",
              "      <th>secondary_title</th>\n",
              "      <td>Female:</td>\n",
              "      <td>Male:</td>\n",
              "      <td>Management:</td>\n",
              "      <td>Hydrological Modeling and Forecasting:</td>\n",
              "      <td>Information and Communication Technology:</td>\n",
              "      <td>Technician:</td>\n",
              "      <td>Support (administration, security, general sup...</td>\n",
              "      <td>Female:</td>\n",
              "      <td>Male:</td>\n",
              "      <td>Less than 20 years:</td>\n",
              "      <td>21-30 years:</td>\n",
              "      <td>31-40 years:</td>\n",
              "      <td>41-50 years:</td>\n",
              "      <td>Over 51 years:</td>\n",
              "      <td>Response</td>\n",
              "      <td>Other (please specify)</td>\n",
              "      <td>NaN</td>\n",
              "    </tr>\n",
              "    <tr>\n",
              "      <th>Albania</th>\n",
              "      <td>15</td>\n",
              "      <td>25</td>\n",
              "      <td>6</td>\n",
              "      <td>8</td>\n",
              "      <td>2</td>\n",
              "      <td>6</td>\n",
              "      <td>4</td>\n",
              "      <td>15</td>\n",
              "      <td>20</td>\n",
              "      <td>0</td>\n",
              "      <td>5</td>\n",
              "      <td>5</td>\n",
              "      <td>20</td>\n",
              "      <td>15</td>\n",
              "      <td>Steadily decreasing</td>\n",
              "      <td>NaN</td>\n",
              "      <td>NaN</td>\n",
              "    </tr>\n",
              "    <tr>\n",
              "      <th>Argentina</th>\n",
              "      <td>95</td>\n",
              "      <td>146</td>\n",
              "      <td>40 / 26</td>\n",
              "      <td>38 / 61</td>\n",
              "      <td>0 / 0</td>\n",
              "      <td>13 / 40</td>\n",
              "      <td>4 / 19</td>\n",
              "      <td>50</td>\n",
              "      <td>73</td>\n",
              "      <td>0</td>\n",
              "      <td>5</td>\n",
              "      <td>45</td>\n",
              "      <td>45</td>\n",
              "      <td>146</td>\n",
              "      <td>No significant year-to-year change</td>\n",
              "      <td>NaN</td>\n",
              "      <td>NaN</td>\n",
              "    </tr>\n",
              "    <tr>\n",
              "      <th>Australia</th>\n",
              "      <td>NaN</td>\n",
              "      <td>NaN</td>\n",
              "      <td>NaN</td>\n",
              "      <td>NaN</td>\n",
              "      <td>NaN</td>\n",
              "      <td>NaN</td>\n",
              "      <td>NaN</td>\n",
              "      <td>NaN</td>\n",
              "      <td>NaN</td>\n",
              "      <td>NaN</td>\n",
              "      <td>NaN</td>\n",
              "      <td>NaN</td>\n",
              "      <td>NaN</td>\n",
              "      <td>NaN</td>\n",
              "      <td>NaN</td>\n",
              "      <td>NaN</td>\n",
              "      <td>NaN</td>\n",
              "    </tr>\n",
              "    <tr>\n",
              "      <th>Australia</th>\n",
              "      <td>525</td>\n",
              "      <td>1083</td>\n",
              "      <td>NaN</td>\n",
              "      <td>47 flood forecasting</td>\n",
              "      <td>NaN</td>\n",
              "      <td>NaN</td>\n",
              "      <td>NaN</td>\n",
              "      <td>NaN</td>\n",
              "      <td>NaN</td>\n",
              "      <td>0</td>\n",
              "      <td>1</td>\n",
              "      <td>14</td>\n",
              "      <td>16</td>\n",
              "      <td>16</td>\n",
              "      <td>No significant year-to-year change</td>\n",
              "      <td>NaN</td>\n",
              "      <td>NaN</td>\n",
              "    </tr>\n",
              "    <tr>\n",
              "      <th>...</th>\n",
              "      <td>...</td>\n",
              "      <td>...</td>\n",
              "      <td>...</td>\n",
              "      <td>...</td>\n",
              "      <td>...</td>\n",
              "      <td>...</td>\n",
              "      <td>...</td>\n",
              "      <td>...</td>\n",
              "      <td>...</td>\n",
              "      <td>...</td>\n",
              "      <td>...</td>\n",
              "      <td>...</td>\n",
              "      <td>...</td>\n",
              "      <td>...</td>\n",
              "      <td>...</td>\n",
              "      <td>...</td>\n",
              "      <td>...</td>\n",
              "    </tr>\n",
              "    <tr>\n",
              "      <th>Wallis and Futuna Islands</th>\n",
              "      <td>NaN</td>\n",
              "      <td>NaN</td>\n",
              "      <td>NaN</td>\n",
              "      <td>NaN</td>\n",
              "      <td>NaN</td>\n",
              "      <td>NaN</td>\n",
              "      <td>NaN</td>\n",
              "      <td>NaN</td>\n",
              "      <td>NaN</td>\n",
              "      <td>NaN</td>\n",
              "      <td>NaN</td>\n",
              "      <td>NaN</td>\n",
              "      <td>NaN</td>\n",
              "      <td>NaN</td>\n",
              "      <td>NaN</td>\n",
              "      <td>NaN</td>\n",
              "      <td>81.6571</td>\n",
              "    </tr>\n",
              "    <tr>\n",
              "      <th>Western Sahara</th>\n",
              "      <td>NaN</td>\n",
              "      <td>NaN</td>\n",
              "      <td>NaN</td>\n",
              "      <td>NaN</td>\n",
              "      <td>NaN</td>\n",
              "      <td>NaN</td>\n",
              "      <td>NaN</td>\n",
              "      <td>NaN</td>\n",
              "      <td>NaN</td>\n",
              "      <td>NaN</td>\n",
              "      <td>NaN</td>\n",
              "      <td>NaN</td>\n",
              "      <td>NaN</td>\n",
              "      <td>NaN</td>\n",
              "      <td>NaN</td>\n",
              "      <td>NaN</td>\n",
              "      <td>2.1897</td>\n",
              "    </tr>\n",
              "    <tr>\n",
              "      <th>Yemen</th>\n",
              "      <td>NaN</td>\n",
              "      <td>NaN</td>\n",
              "      <td>NaN</td>\n",
              "      <td>NaN</td>\n",
              "      <td>NaN</td>\n",
              "      <td>NaN</td>\n",
              "      <td>NaN</td>\n",
              "      <td>NaN</td>\n",
              "      <td>NaN</td>\n",
              "      <td>NaN</td>\n",
              "      <td>NaN</td>\n",
              "      <td>NaN</td>\n",
              "      <td>NaN</td>\n",
              "      <td>NaN</td>\n",
              "      <td>NaN</td>\n",
              "      <td>NaN</td>\n",
              "      <td>55.2341</td>\n",
              "    </tr>\n",
              "    <tr>\n",
              "      <th>Zambia</th>\n",
              "      <td>NaN</td>\n",
              "      <td>NaN</td>\n",
              "      <td>NaN</td>\n",
              "      <td>NaN</td>\n",
              "      <td>NaN</td>\n",
              "      <td>NaN</td>\n",
              "      <td>NaN</td>\n",
              "      <td>NaN</td>\n",
              "      <td>NaN</td>\n",
              "      <td>NaN</td>\n",
              "      <td>NaN</td>\n",
              "      <td>NaN</td>\n",
              "      <td>NaN</td>\n",
              "      <td>NaN</td>\n",
              "      <td>NaN</td>\n",
              "      <td>NaN</td>\n",
              "      <td>24.0265</td>\n",
              "    </tr>\n",
              "    <tr>\n",
              "      <th>Zimbabwe</th>\n",
              "      <td>NaN</td>\n",
              "      <td>NaN</td>\n",
              "      <td>NaN</td>\n",
              "      <td>NaN</td>\n",
              "      <td>NaN</td>\n",
              "      <td>NaN</td>\n",
              "      <td>NaN</td>\n",
              "      <td>NaN</td>\n",
              "      <td>NaN</td>\n",
              "      <td>NaN</td>\n",
              "      <td>NaN</td>\n",
              "      <td>NaN</td>\n",
              "      <td>NaN</td>\n",
              "      <td>NaN</td>\n",
              "      <td>NaN</td>\n",
              "      <td>NaN</td>\n",
              "      <td>37.8583</td>\n",
              "    </tr>\n",
              "  </tbody>\n",
              "</table>\n",
              "<p>355 rows × 17 columns</p>\n",
              "</div>"
            ],
            "text/plain": [
              "                          Please provide the total number of staff in your institution/organization by gender:  ... pop_density_2019\n",
              "secondary_title                                                      Female:                                    ...              NaN\n",
              "Albania                                                                   15                                    ...              NaN\n",
              "Argentina                                                                 95                                    ...              NaN\n",
              "Australia                                                                NaN                                    ...              NaN\n",
              "Australia                                                                525                                    ...              NaN\n",
              "...                                                                      ...                                    ...              ...\n",
              "Wallis and Futuna Islands                                                NaN                                    ...          81.6571\n",
              "Western Sahara                                                           NaN                                    ...           2.1897\n",
              "Yemen                                                                    NaN                                    ...          55.2341\n",
              "Zambia                                                                   NaN                                    ...          24.0265\n",
              "Zimbabwe                                                                 NaN                                    ...          37.8583\n",
              "\n",
              "[355 rows x 17 columns]"
            ]
          },
          "metadata": {
            "tags": []
          },
          "execution_count": 27
        }
      ]
    },
    {
      "cell_type": "markdown",
      "metadata": {
        "id": "HfRLc15FfQyv"
      },
      "source": [
        ""
      ]
    },
    {
      "cell_type": "code",
      "metadata": {
        "id": "nmNcGeJ47TtC"
      },
      "source": [
        ""
      ],
      "execution_count": null,
      "outputs": []
    },
    {
      "cell_type": "code",
      "metadata": {
        "colab": {
          "base_uri": "https://localhost:8080/",
          "height": 283
        },
        "id": "PIe4dIOrSVh8",
        "outputId": "93923b1d-9b50-4892-d18d-462d83cd102f"
      },
      "source": [
        "\n",
        "\n",
        "aa = df_staff.iloc[1:,3]\n",
        "print(aa.head())\n",
        "\n",
        "def identity_total_personal(x_in):\n",
        "  \"\"\" This funciton identify the numbers in each cell of an input dataframe,\n",
        "   turns them to integers and returns their sum\"\"\"\n",
        "  try:\n",
        "    if type(x_in) == int or type(x_in) == float:\n",
        "      return x_in\n",
        "    list_nums = re.findall(r\"\\d+\",x_in)\n",
        "    list_nums2 = [int(x) for x in list_nums]\n",
        "    return sum(list_nums2)\n",
        "  except:\n",
        "    return float(\"NAN\")\n",
        "# return re.findall(r\"\\d+\",df)\n",
        "\n",
        "# sum the numbers in each cell:\n",
        "#if aa will be a df then I should change the map to applymap !!\n",
        "new = aa.map(identity_total_personal)\n",
        "print(new.head())\n",
        "# drop nans:\n",
        "new.dropna(inplace = True)\n",
        "print(new.head())\n",
        "# now for the plotting:\n",
        "\n",
        "plt.figure()\n",
        "new.plot(kind = \"hist\", bins = 50)\n",
        "new.plot(kind = \"box\")\n",
        "\n",
        "# new.head()\n",
        "# # test:\n",
        "# a = re.findall(r\"\\d+\",\"3 jh 32\" )\n",
        "# print(a)\n",
        "# sum([int(a[0]) , int(a[1])])\n",
        "\n",
        "# identity_total_personal(\"aa\")\n",
        "\n",
        "\n",
        "# type(df_staff[1:,3])\n",
        "\n"
      ],
      "execution_count": null,
      "outputs": [
        {
          "output_type": "execute_result",
          "data": {
            "text/plain": [
              "<matplotlib.axes._subplots.AxesSubplot at 0x7f338be00f10>"
            ]
          },
          "metadata": {
            "tags": []
          },
          "execution_count": 16
        },
        {
          "output_type": "display_data",
          "data": {
            "image/png": "[encoded data removed]",
            "text/plain": [
              "<Figure size 432x288 with 1 Axes>"
            ]
          },
          "metadata": {
            "tags": [],
            "needs_background": "light"
          }
        }
      ]
    },
    {
      "cell_type": "code",
      "metadata": {
        "id": "K1TcEoZVSjbB"
      },
      "source": [
        ""
      ],
      "execution_count": null,
      "outputs": []
    },
    {
      "cell_type": "code",
      "metadata": {
        "id": "UqnENE-_uW2o"
      },
      "source": [
        ""
      ],
      "execution_count": null,
      "outputs": []
    },
    {
      "cell_type": "code",
      "metadata": {
        "id": "VtHeKiCPunBu"
      },
      "source": [
        ""
      ],
      "execution_count": null,
      "outputs": []
    },
    {
      "cell_type": "code",
      "metadata": {
        "id": "yGrXfol0unW2"
      },
      "source": [
        ""
      ],
      "execution_count": null,
      "outputs": []
    }
  ]
}