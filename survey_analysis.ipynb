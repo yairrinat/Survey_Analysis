{
  "nbformat": 4,
  "nbformat_minor": 0,
  "metadata": {
    "colab": {
      "name": "survey_analysis.ipynb",
      "provenance": [],
      "authorship_tag": "ABX9TyMZwn6Pmr6GlacsCBjZ23Th",
      "include_colab_link": true
    },
    "kernelspec": {
      "name": "python3",
      "display_name": "Python 3"
    },
    "language_info": {
      "name": "python"
    }
  },
  "cells": [
    {
      "cell_type": "markdown",
      "metadata": {
        "id": "view-in-github",
        "colab_type": "text"
      },
      "source": [
        "<a href=\"https://colab.research.google.com/github/yairrinat/Survey_Analysis/blob/main/survey_analysis.ipynb\" target=\"_parent\"><img src=\"https://colab.research.google.com/assets/colab-badge.svg\" alt=\"Open In Colab\"/></a>"
      ]
    },
    {
      "cell_type": "markdown",
      "metadata": {
        "id": "x3EcP3cRHtLY"
      },
      "source": [
        "In this short script I plan to analyze the survey data we got from the WMO\n",
        "\n",
        "# **This is a new version**\n"
      ]
    },
    {
      "cell_type": "code",
      "metadata": {
        "id": "jz2jGo0Pfgn9"
      },
      "source": [
        "# load and install pakages\n",
        "import pandas as pd\n",
        "import re\n"
      ],
      "execution_count": 7,
      "outputs": []
    },
    {
      "cell_type": "code",
      "metadata": {
        "id": "OyLgczgmgrLg"
      },
      "source": [
        ""
      ],
      "execution_count": 4,
      "outputs": []
    },
    {
      "cell_type": "markdown",
      "metadata": {
        "id": "Uumz9oo1hIuA"
      },
      "source": [
        "# Loading excels:"
      ]
    },
    {
      "cell_type": "code",
      "metadata": {
        "id": "Q2yjrwHKfRCf",
        "outputId": "4b34b8cc-49ae-404e-8729-0ff866bcb8a4",
        "colab": {
          "base_uri": "https://localhost:8080/",
          "height": 848
        }
      },
      "source": [
        "# link to excel file:\n",
        "url = \"https://github.com/yairrinat/Survey_Analysis/blob/main/WMO_SURVEY.xlsx?raw=true\"\n",
        "\n",
        "#load personal data:\n",
        "df_personal = pd.read_excel(url,index_col = 0,header = 0, sheet_name = \"Person details\")\n",
        "df_personal = df_personal.iloc[1:,:] # remove first row\n",
        "#print(df_personal)\n",
        "\n",
        "#load staff data:\n",
        "df_staff = pd.read_excel(url,index_col=0,header = 0, sheet_name = \"STAFF\")\n",
        "list_ind = df_staff.index.to_list()\n",
        "list_ind[0] = \"secondary_title\"\n",
        "df_staff.index= list_ind\n",
        "df_staff.head(10)\n",
        "\n",
        "#load ... to be continued later"
      ],
      "execution_count": 11,
      "outputs": [
        {
          "output_type": "execute_result",
          "data": {
            "text/html": [
              "<div>\n",
              "<style scoped>\n",
              "    .dataframe tbody tr th:only-of-type {\n",
              "        vertical-align: middle;\n",
              "    }\n",
              "\n",
              "    .dataframe tbody tr th {\n",
              "        vertical-align: top;\n",
              "    }\n",
              "\n",
              "    .dataframe thead th {\n",
              "        text-align: right;\n",
              "    }\n",
              "</style>\n",
              "<table border=\"1\" class=\"dataframe\">\n",
              "  <thead>\n",
              "    <tr style=\"text-align: right;\">\n",
              "      <th></th>\n",
              "      <th>Please provide the total number of staff in your institution/organization by gender:</th>\n",
              "      <th>Unnamed: 2</th>\n",
              "      <th>Please provide the number of staff working in the institution/organization, in the following areas along with their gender distribution: (Female/Male)</th>\n",
              "      <th>Unnamed: 4</th>\n",
              "      <th>Unnamed: 5</th>\n",
              "      <th>Unnamed: 6</th>\n",
              "      <th>Unnamed: 7</th>\n",
              "      <th>Please provide the number of staff in your institution/organization with a university degree, along with their gender distribution:</th>\n",
              "      <th>Unnamed: 9</th>\n",
              "      <th>Please provide the number of staff in your institution/organization by the following age categories:</th>\n",
              "      <th>Unnamed: 11</th>\n",
              "      <th>Unnamed: 12</th>\n",
              "      <th>Unnamed: 13</th>\n",
              "      <th>Unnamed: 14</th>\n",
              "      <th>Please indicate the trend of the staffing figures during the recent 3-5 years:</th>\n",
              "      <th>Unnamed: 16</th>\n",
              "    </tr>\n",
              "  </thead>\n",
              "  <tbody>\n",
              "    <tr>\n",
              "      <th>secondary_title</th>\n",
              "      <td>Female:</td>\n",
              "      <td>Male:</td>\n",
              "      <td>Management:</td>\n",
              "      <td>Hydrological Modeling and Forecasting:</td>\n",
              "      <td>Information and Communication Technology:</td>\n",
              "      <td>Technician:</td>\n",
              "      <td>Support (administration, security, general sup...</td>\n",
              "      <td>Female:</td>\n",
              "      <td>Male:</td>\n",
              "      <td>Less than 20 years:</td>\n",
              "      <td>21-30 years:</td>\n",
              "      <td>31-40 years:</td>\n",
              "      <td>41-50 years:</td>\n",
              "      <td>Over 51 years:</td>\n",
              "      <td>Response</td>\n",
              "      <td>Other (please specify)</td>\n",
              "    </tr>\n",
              "    <tr>\n",
              "      <th>Albania</th>\n",
              "      <td>15</td>\n",
              "      <td>25</td>\n",
              "      <td>6</td>\n",
              "      <td>8</td>\n",
              "      <td>2</td>\n",
              "      <td>6</td>\n",
              "      <td>4</td>\n",
              "      <td>15</td>\n",
              "      <td>20</td>\n",
              "      <td>0</td>\n",
              "      <td>5</td>\n",
              "      <td>5</td>\n",
              "      <td>20</td>\n",
              "      <td>15</td>\n",
              "      <td>Steadily decreasing</td>\n",
              "      <td>NaN</td>\n",
              "    </tr>\n",
              "    <tr>\n",
              "      <th>Argentina</th>\n",
              "      <td>95</td>\n",
              "      <td>146</td>\n",
              "      <td>40 / 26</td>\n",
              "      <td>38 / 61</td>\n",
              "      <td>0 / 0</td>\n",
              "      <td>13 / 40</td>\n",
              "      <td>4 / 19</td>\n",
              "      <td>50</td>\n",
              "      <td>73</td>\n",
              "      <td>0</td>\n",
              "      <td>5</td>\n",
              "      <td>45</td>\n",
              "      <td>45</td>\n",
              "      <td>146</td>\n",
              "      <td>No significant year-to-year change</td>\n",
              "      <td>NaN</td>\n",
              "    </tr>\n",
              "    <tr>\n",
              "      <th>Australia</th>\n",
              "      <td>NaN</td>\n",
              "      <td>NaN</td>\n",
              "      <td>NaN</td>\n",
              "      <td>NaN</td>\n",
              "      <td>NaN</td>\n",
              "      <td>NaN</td>\n",
              "      <td>NaN</td>\n",
              "      <td>NaN</td>\n",
              "      <td>NaN</td>\n",
              "      <td>NaN</td>\n",
              "      <td>NaN</td>\n",
              "      <td>NaN</td>\n",
              "      <td>NaN</td>\n",
              "      <td>NaN</td>\n",
              "      <td>NaN</td>\n",
              "      <td>NaN</td>\n",
              "    </tr>\n",
              "    <tr>\n",
              "      <th>Australia</th>\n",
              "      <td>525</td>\n",
              "      <td>1083</td>\n",
              "      <td>NaN</td>\n",
              "      <td>47 flood forecasting</td>\n",
              "      <td>NaN</td>\n",
              "      <td>NaN</td>\n",
              "      <td>NaN</td>\n",
              "      <td>NaN</td>\n",
              "      <td>NaN</td>\n",
              "      <td>0</td>\n",
              "      <td>1</td>\n",
              "      <td>14</td>\n",
              "      <td>16</td>\n",
              "      <td>16</td>\n",
              "      <td>No significant year-to-year change</td>\n",
              "      <td>NaN</td>\n",
              "    </tr>\n",
              "    <tr>\n",
              "      <th>Bahamas</th>\n",
              "      <td>147</td>\n",
              "      <td>238</td>\n",
              "      <td>65, Female = 36, Male = 29</td>\n",
              "      <td>2</td>\n",
              "      <td>NaN</td>\n",
              "      <td>NaN</td>\n",
              "      <td>NaN</td>\n",
              "      <td>87</td>\n",
              "      <td>79</td>\n",
              "      <td>2</td>\n",
              "      <td>44</td>\n",
              "      <td>96</td>\n",
              "      <td>109</td>\n",
              "      <td>134</td>\n",
              "      <td>Other (please specify)</td>\n",
              "      <td>Staffing compliment is decreasing, based on em...</td>\n",
              "    </tr>\n",
              "    <tr>\n",
              "      <th>Bangladesh</th>\n",
              "      <td>1</td>\n",
              "      <td>13</td>\n",
              "      <td>700/2800</td>\n",
              "      <td>1/13</td>\n",
              "      <td>50/450</td>\n",
              "      <td>1000/4000</td>\n",
              "      <td>200/800</td>\n",
              "      <td>1000</td>\n",
              "      <td>4000</td>\n",
              "      <td>0%</td>\n",
              "      <td>15%</td>\n",
              "      <td>30%</td>\n",
              "      <td>35%</td>\n",
              "      <td>20%</td>\n",
              "      <td>Don't know</td>\n",
              "      <td>NaN</td>\n",
              "    </tr>\n",
              "    <tr>\n",
              "      <th>Belarus</th>\n",
              "      <td>783</td>\n",
              "      <td>358</td>\n",
              "      <td>NaN</td>\n",
              "      <td>4/1</td>\n",
              "      <td>NaN</td>\n",
              "      <td>NaN</td>\n",
              "      <td>NaN</td>\n",
              "      <td>206</td>\n",
              "      <td>46</td>\n",
              "      <td>32</td>\n",
              "      <td>74</td>\n",
              "      <td>73</td>\n",
              "      <td>67</td>\n",
              "      <td>134</td>\n",
              "      <td>Без существенных изменений от года к году</td>\n",
              "      <td>NaN</td>\n",
              "    </tr>\n",
              "    <tr>\n",
              "      <th>Belgium</th>\n",
              "      <td>NaN</td>\n",
              "      <td>NaN</td>\n",
              "      <td>NaN</td>\n",
              "      <td>1</td>\n",
              "      <td>5</td>\n",
              "      <td>NaN</td>\n",
              "      <td>NaN</td>\n",
              "      <td>NaN</td>\n",
              "      <td>NaN</td>\n",
              "      <td>NaN</td>\n",
              "      <td>NaN</td>\n",
              "      <td>NaN</td>\n",
              "      <td>NaN</td>\n",
              "      <td>NaN</td>\n",
              "      <td>En augmentation constante</td>\n",
              "      <td>NaN</td>\n",
              "    </tr>\n",
              "    <tr>\n",
              "      <th>Belize</th>\n",
              "      <td>3</td>\n",
              "      <td>3</td>\n",
              "      <td>1</td>\n",
              "      <td>1</td>\n",
              "      <td>1</td>\n",
              "      <td>4</td>\n",
              "      <td>1</td>\n",
              "      <td>1</td>\n",
              "      <td>NaN</td>\n",
              "      <td>NaN</td>\n",
              "      <td>2</td>\n",
              "      <td>3</td>\n",
              "      <td>1</td>\n",
              "      <td>NaN</td>\n",
              "      <td>No significant year-to-year change</td>\n",
              "      <td>NaN</td>\n",
              "    </tr>\n",
              "  </tbody>\n",
              "</table>\n",
              "</div>"
            ],
            "text/plain": [
              "                Please provide the total number of staff in your institution/organization by gender:  ...                                        Unnamed: 16\n",
              "secondary_title                                            Female:                                    ...                             Other (please specify)\n",
              "Albania                                                         15                                    ...                                                NaN\n",
              "Argentina                                                       95                                    ...                                                NaN\n",
              "Australia                                                      NaN                                    ...                                                NaN\n",
              "Australia                                                      525                                    ...                                                NaN\n",
              "Bahamas                                                        147                                    ...  Staffing compliment is decreasing, based on em...\n",
              "Bangladesh                                                       1                                    ...                                                NaN\n",
              "Belarus                                                        783                                    ...                                                NaN\n",
              "Belgium                                                        NaN                                    ...                                                NaN\n",
              "Belize                                                           3                                    ...                                                NaN\n",
              "\n",
              "[10 rows x 16 columns]"
            ]
          },
          "metadata": {
            "tags": []
          },
          "execution_count": 11
        }
      ]
    },
    {
      "cell_type": "markdown",
      "metadata": {
        "id": "HfRLc15FfQyv"
      },
      "source": [
        ""
      ]
    },
    {
      "cell_type": "code",
      "metadata": {
        "colab": {
          "base_uri": "https://localhost:8080/"
        },
        "id": "PIe4dIOrSVh8",
        "outputId": "68aef8c7-0e72-45c9-c610-11cd2c936bd5"
      },
      "source": [
        "d = {'a': 1, 'b': \"25 t o 4\", 'c': \"fh\"}\n",
        "aa = pd.Series(data=d, index=['a', 'b', 'c'])\n",
        "#aa = pd.Series({'col1': [\"heh\", \"8\", \"7 4 /,dlfk 7\"]})\n",
        "aa.head()\n",
        "\n",
        "aa = df_staff.iloc[1:,3]\n",
        "print(aa.head())\n",
        "\n",
        "def identity_total_personal(x_in):\n",
        "  \"\"\" This funciton identify the numbers in each cell of an input dataframe,\n",
        "   turns them to integers and returns their sum\"\"\"\n",
        "  try:\n",
        "    if type(x_in) == int or type(x_in) == float:\n",
        "      return x_in\n",
        "    list_nums = re.findall(r\"\\d+\",x_in)\n",
        "    list_nums2 = [int(x) for x in list_nums]\n",
        "    return sum(list_nums2)\n",
        "  except:\n",
        "    return float(\"NAN\")\n",
        "# return re.findall(r\"\\d+\",df)\n",
        "\n",
        "# sum the numbers in each cell:\n",
        "new = aa.map(identity_total_personal)\n",
        "print(new.head())\n",
        "\n",
        "# new.head()\n",
        "# # test:\n",
        "# a = re.findall(r\"\\d+\",\"3 jh 32\" )\n",
        "# print(a)\n",
        "# sum([int(a[0]) , int(a[1])])\n",
        "\n",
        "# identity_total_personal(\"aa\")\n",
        "\n",
        "\n",
        "# type(df_staff[1:,3])\n",
        "\n"
      ],
      "execution_count": 100,
      "outputs": [
        {
          "output_type": "stream",
          "text": [
            "Albania       8.0\n",
            "Argentina    99.0\n",
            "Australia     NaN\n",
            "Australia    47.0\n",
            "Bahamas       2.0\n",
            "Name: Unnamed: 4, dtype: float64\n"
          ],
          "name": "stdout"
        }
      ]
    },
    {
      "cell_type": "code",
      "metadata": {
        "id": "K1TcEoZVSjbB"
      },
      "source": [
        ""
      ],
      "execution_count": 5,
      "outputs": []
    },
    {
      "cell_type": "code",
      "metadata": {
        "id": "UqnENE-_uW2o"
      },
      "source": [
        ""
      ],
      "execution_count": 5,
      "outputs": []
    },
    {
      "cell_type": "code",
      "metadata": {
        "id": "VtHeKiCPunBu"
      },
      "source": [
        ""
      ],
      "execution_count": 5,
      "outputs": []
    },
    {
      "cell_type": "code",
      "metadata": {
        "id": "yGrXfol0unW2"
      },
      "source": [
        ""
      ],
      "execution_count": 5,
      "outputs": []
    }
  ]
}