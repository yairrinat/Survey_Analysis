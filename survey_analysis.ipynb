{
  "nbformat": 4,
  "nbformat_minor": 0,
  "metadata": {
    "colab": {
      "name": "survey_analysis.ipynb",
      "provenance": [],
      "toc_visible": true,
      "history_visible": true,
      "authorship_tag": "ABX9TyNu0Qw2QV2UaAzwS0MQITAU",
      "include_colab_link": true
    },
    "kernelspec": {
      "name": "python3",
      "display_name": "Python 3"
    },
    "language_info": {
      "name": "python"
    }
  },
  "cells": [
    {
      "cell_type": "markdown",
      "metadata": {
        "id": "view-in-github",
        "colab_type": "text"
      },
      "source": [
        "<a href=\"https://colab.research.google.com/github/yairrinat/Survey_Analysis/blob/main/survey_analysis.ipynb\" target=\"_parent\"><img src=\"https://colab.research.google.com/assets/colab-badge.svg\" alt=\"Open In Colab\"/></a>"
      ]
    },
    {
      "cell_type": "markdown",
      "metadata": {
        "id": "x3EcP3cRHtLY"
      },
      "source": [
        "In this short script I plan to analyze the survey data we got from the WMO\n",
        "\n",
        "# **This is a new version**\n"
      ]
    },
    {
      "cell_type": "code",
      "metadata": {
        "id": "jz2jGo0Pfgn9"
      },
      "source": [
        "# load and install pakages\n",
        "import pandas as pd\n",
        "import re\n",
        "import matplotlib.pyplot as plt\n",
        "import seaborn as sns"
      ],
      "execution_count": 4,
      "outputs": []
    },
    {
      "cell_type": "code",
      "metadata": {
        "id": "OyLgczgmgrLg"
      },
      "source": [
        ""
      ],
      "execution_count": null,
      "outputs": []
    },
    {
      "cell_type": "markdown",
      "metadata": {
        "id": "Uumz9oo1hIuA"
      },
      "source": [
        "# Loading excels:"
      ]
    },
    {
      "cell_type": "code",
      "metadata": {
        "id": "Q2yjrwHKfRCf",
        "colab": {
          "base_uri": "https://localhost:8080/"
        },
        "outputId": "aacfa290-e640-4a61-e9c0-0274b837cad0"
      },
      "source": [
        "# link to excel file:\n",
        "url_world = \"https://github.com/yairrinat/Survey_Analysis/blob/main/WMO_SURVEY.xlsx?raw=true\"\n",
        "url_pop = \"https://github.com/yairrinat/Survey_Analysis/blob/main/world_pop_all.xlsx?raw=true\"\n",
        "url_country_area = \"https://github.com/yairrinat/Survey_Analysis/blob/main/country_area_new.xlsx?raw=true\"\n",
        "url_staff_reduced = \"https://github.com/yairrinat/Survey_Analysis/blob/main/WMO%20Hydrology%20Survey_Staff_reduced.xlsx?raw=true\"\n",
        "url_GDP = \"https://github.com/yairrinat/Survey_Analysis/blob/main/GDP_PPP.xlsx?raw=true\"\n",
        "\n",
        "#load personal data:\n",
        "df_personal = pd.read_excel(url_world,index_col = 0,header = 0, sheet_name = \"Person details\")\n",
        "df_personal = df_personal.iloc[1:,:] # remove first row\n",
        "#print(df_personal)\n",
        "\n",
        "#load staff data:\n",
        "df_staff = pd.read_excel(url_world,index_col=0,header = 0, sheet_name = \"STAFF\")\n",
        "list_ind = df_staff.index.to_list()\n",
        "list_ind[0] = \"secondary_title\"\n",
        "df_staff.index= list_ind\n",
        "df_staff.head(10)\n",
        "\n",
        "#load reduced staff data\n",
        "df_staff_reduced = pd.read_excel(url_staff_reduced,index_col=0,header = 0, sheet_name = \"STAFF\")\n",
        "list_ind = df_staff_reduced.index.to_list()\n",
        "list_ind[0] = \"secondary_title\"\n",
        "df_staff_reduced.index= list_ind\n",
        "df_staff_reduced.head(10)\n",
        "\n",
        "#load ... to be continued later\n",
        "\n",
        "#load population data:\n",
        "df_pop = pd.read_excel(url_pop)\n",
        "# select only the population density and YEAR 2020:\n",
        "df_pop = df_pop[df_pop['Year'] == 2019]\n",
        "df_pop = df_pop[df_pop['Series'] == \"Population density\"]\n",
        "df_pop.drop([\"Region/Country/Area\",\"Footnotes\",\"Source\", \"Series\", \"Year\"],axis = 1, inplace = True)\n",
        "df_pop.rename(columns={\"Population, density and surface area\"\t: \"Country\", \"Value\" : \"pop_density_2019\"}, inplace = True)\n",
        "df_pop.set_index(\"Country\",inplace = True)\n",
        "\n",
        "#load GNI = gross national income previously gross national product\n",
        "df_gpd_ppp = pd.read_excel(url_GDP,index_col = 0, header = 3)\n",
        "df_gpd_ppp = df_gpd_ppp[\"2019\"] # in $ \n",
        "\n",
        "df = pd.concat([df_staff,df_pop])\n",
        "\n",
        "\n",
        "df"
      ],
      "execution_count": 17,
      "outputs": [
        {
          "output_type": "execute_result",
          "data": {
            "text/plain": [
              "Country Name\n",
              "Aruba                    NaN\n",
              "Afghanistan     8.203398e+10\n",
              "Angola          2.216795e+11\n",
              "Albania         4.059829e+10\n",
              "Andorra                  NaN\n",
              "                    ...     \n",
              "Kosovo          2.129915e+10\n",
              "Yemen, Rep.              NaN\n",
              "South Africa    7.632581e+11\n",
              "Zambia          6.472882e+10\n",
              "Zimbabwe        4.337177e+10\n",
              "Name: 2019, Length: 264, dtype: float64"
            ]
          },
          "metadata": {
            "tags": []
          },
          "execution_count": 17
        }
      ]
    },
    {
      "cell_type": "markdown",
      "metadata": {
        "id": "HfRLc15FfQyv"
      },
      "source": [
        ""
      ]
    },
    {
      "cell_type": "code",
      "metadata": {
        "id": "nmNcGeJ47TtC"
      },
      "source": [
        ""
      ],
      "execution_count": null,
      "outputs": []
    },
    {
      "cell_type": "code",
      "metadata": {
        "colab": {
          "base_uri": "https://localhost:8080/",
          "height": 283
        },
        "id": "PIe4dIOrSVh8",
        "outputId": "6e58b586-354a-4a7c-9a99-4c457dddb2e4"
      },
      "source": [
        "aa = df_staff_reduced.iloc[1:,3]\n",
        "print(aa.head())\n",
        "\n",
        "def identity_total_personal(x_in):\n",
        "  \"\"\" This funciton identify the numbers in each cell of an input dataframe,\n",
        "   turns them to integers and returns their sum\"\"\"\n",
        "  try:\n",
        "    if type(x_in) == int or type(x_in) == float:\n",
        "      return x_in\n",
        "    list_nums = re.findall(r\"\\d+\",x_in)\n",
        "    list_nums2 = [int(x) for x in list_nums]\n",
        "    return sum(list_nums2)\n",
        "  except:\n",
        "    return float(\"NAN\")\n",
        "# return re.findall(r\"\\d+\",df)\n",
        "\n",
        "# sum the numbers in each cell:\n",
        "#if aa will be a df then I should change the map to applymap !!\n",
        "new = aa.map(identity_total_personal)\n",
        "print(new.head())\n",
        "# drop nans:\n",
        "new.dropna(inplace = True)\n",
        "print(new.head())\n",
        "# now for the plotting:\n",
        "\n",
        "plt.figure()\n",
        "new.plot(kind = \"hist\", bins = 50)\n",
        "new.plot(kind = \"box\")\n",
        "new.plot(kind = \"box\", ylim =(0,50) )\n",
        "\n",
        "\n",
        "plt.violinplot(new)\n",
        "\n",
        "sns.displot(new, kind=\"hist\", binwidth = 5)\n",
        "\n",
        "# new.head()\n",
        "# # test:\n",
        "# a = re.findall(r\"\\d+\",\"3 jh 32\" )\n",
        "# print(a)\n",
        "# sum([int(a[0]) , int(a[1])])\n",
        "\n",
        "# identity_total_personal(\"aa\")\n",
        "\n",
        "\n",
        "# type(df_staff[1:,3])\n",
        "\n"
      ],
      "execution_count": 80,
      "outputs": [
        {
          "output_type": "execute_result",
          "data": {
            "text/plain": [
              "<matplotlib.axes._subplots.AxesSubplot at 0x7f0755ecc610>"
            ]
          },
          "metadata": {
            "tags": []
          },
          "execution_count": 80
        },
        {
          "output_type": "display_data",
          "data": {
            "image/png": "[encoded data removed]",
            "text/plain": [
              "<Figure size 432x288 with 1 Axes>"
            ]
          },
          "metadata": {
            "tags": [],
            "needs_background": "light"
          }
        }
      ]
    },
    {
      "cell_type": "code",
      "metadata": {
        "id": "K1TcEoZVSjbB"
      },
      "source": [
        ""
      ],
      "execution_count": null,
      "outputs": []
    },
    {
      "cell_type": "code",
      "metadata": {
        "id": "UqnENE-_uW2o"
      },
      "source": [
        ""
      ],
      "execution_count": null,
      "outputs": []
    },
    {
      "cell_type": "code",
      "metadata": {
        "id": "VtHeKiCPunBu"
      },
      "source": [
        ""
      ],
      "execution_count": null,
      "outputs": []
    },
    {
      "cell_type": "code",
      "metadata": {
        "id": "yGrXfol0unW2"
      },
      "source": [
        ""
      ],
      "execution_count": null,
      "outputs": []
    }
  ]
}